{
 "cells": [
  {
   "cell_type": "markdown",
   "metadata": {},
   "source": [
    "same syntax : {expression} \n",
    "\n",
    "image source can be lost in *deployment* process <= entire code will be transformed , optimized and bubdled togerther.\n",
    "\n",
    "how should load and include images : \n",
    "\n",
    "    use import statment : import *name* from *reletive path*\n"
   ]
  }
 ],
 "metadata": {
  "language_info": {
   "name": "python"
  }
 },
 "nbformat": 4,
 "nbformat_minor": 2
}
