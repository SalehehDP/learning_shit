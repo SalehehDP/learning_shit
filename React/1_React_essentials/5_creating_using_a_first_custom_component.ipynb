{
 "cells": [
  {
   "cell_type": "markdown",
   "metadata": {},
   "source": [
    "Add a Header component(function) in app.jsx "
   ]
  },
  {
   "cell_type": "code",
   "execution_count": null,
   "metadata": {
    "vscode": {
     "languageId": "javascript"
    }
   },
   "outputs": [],
   "source": [
    "function Header(){\n",
    "    return (\n",
    "      <header>\n",
    "        <img src=\"src/assets/react-core-concepts.png\" alt=\"Stylized atom\" />\n",
    "        <h1>React Essentials</h1>\n",
    "        <p>\n",
    "          Fundamental React concepts you will need for almost any app you are\n",
    "          going to build!\n",
    "        </p>\n",
    "      </header>\n",
    "    );\n",
    "  }"
   ]
  },
  {
   "cell_type": "markdown",
   "metadata": {},
   "source": [
    "becuase we have multiline output => ()\n",
    "\n",
    "then you can use the component as HTML element in two way as you can see:"
   ]
  },
  {
   "cell_type": "code",
   "execution_count": null,
   "metadata": {
    "vscode": {
     "languageId": "javascript"
    }
   },
   "outputs": [],
   "source": [
    "function App() {\n",
    "    return (\n",
    "      <div>\n",
    "        <Header></Header> \n",
    "        <Header />\n",
    "        <main>\n",
    "          <h2>Time to get started!</h2>\n",
    "        </main>\n",
    "      </div>\n",
    "    );\n",
    "  }"
   ]
  }
 ],
 "metadata": {
  "language_info": {
   "name": "python"
  }
 },
 "nbformat": 4,
 "nbformat_minor": 2
}
