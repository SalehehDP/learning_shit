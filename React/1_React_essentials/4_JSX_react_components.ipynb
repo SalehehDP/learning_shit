{
 "cells": [
  {
   "cell_type": "markdown",
   "metadata": {},
   "source": [
    "React is rendering the content on the screen => *index.html* is pretty empty\n",
    " => *index.jsx*  => *app.jsx* : has the markup for the content , seems to contian HTML code \n",
    "\n",
    "\n",
    "JSX : Javascript Syntax Extension  / HTML in JS\n",
    "so we can write HTML in js but it's not supported by browsers\n",
    "\n",
    "need to transform\n",
    "\n",
    "\n",
    "**a Component is really just a javascript function**  like app.jsx\n",
    "    - fuctions Must follow two rules : \n",
    "        1 Name start with uppercase character\n",
    "        2 return \"renderable\" content"
   ]
  }
 ],
 "metadata": {
  "language_info": {
   "name": "python"
  }
 },
 "nbformat": 4,
 "nbformat_minor": 2
}
