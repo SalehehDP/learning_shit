{
 "cells": [
  {
   "cell_type": "markdown",
   "metadata": {},
   "source": [
    "What we can do with *the spread operator **...***"
   ]
  },
  {
   "cell_type": "code",
   "execution_count": null,
   "metadata": {
    "vscode": {
     "languageId": "javascript"
    }
   },
   "outputs": [],
   "source": [
    "          \n",
    "<CoreConcepts\n",
    "    title = {CORE_CONCEPTS[0].title}\n",
    "    description = {CORE_CONCEPTS[0].description}\n",
    "    image = {CORE_CONCEPTS[0].image}\n",
    "/>"
   ]
  },
  {
   "cell_type": "markdown",
   "metadata": {},
   "source": [
    "=> short way  , with the spread operator **...**"
   ]
  },
  {
   "cell_type": "code",
   "execution_count": null,
   "metadata": {
    "vscode": {
     "languageId": "javascript"
    }
   },
   "outputs": [],
   "source": [
    "<CoreConcepts {...CORE_CONCEPTS[0]}/>"
   ]
  },
  {
   "cell_type": "markdown",
   "metadata": {},
   "source": [
    "inside of component function :\n",
    "\n",
    "*{}* in input will speread first parameter of function .\n",
    "\n",
    "propName should be same as what we send as input ."
   ]
  },
  {
   "cell_type": "code",
   "execution_count": null,
   "metadata": {
    "vscode": {
     "languageId": "javascript"
    }
   },
   "outputs": [],
   "source": [
    "function name(props){\n",
    "    retrun (props.propName1 , props.propName2);\n",
    "}\n",
    "\n",
    "\n",
    "function name({propName1 , propName2}){ // pulling out needed props\n",
    "    retrun (propName1 , propName2);\n",
    "}"
   ]
  },
  {
   "cell_type": "markdown",
   "metadata": {},
   "source": [
    "props.propName1 => propName1"
   ]
  }
 ],
 "metadata": {
  "language_info": {
   "name": "python"
  }
 },
 "nbformat": 4,
 "nbformat_minor": 2
}
