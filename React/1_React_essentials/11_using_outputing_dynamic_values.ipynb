{
 "cells": [
  {
   "cell_type": "markdown",
   "metadata": {},
   "source": [
    "**dynamic content** : value is derived at runtime  => we use {} syntax to tell we eanan use dynamic value \n",
    "\n",
    "syntax : {expression}  \n",
    "\n",
    "*!* if , for , function definitions ,.... are not allowed , only expression that *diectly produce a value*.\n",
    "\n",
    "**static content** : hardcoded "
   ]
  }
 ],
 "metadata": {
  "language_info": {
   "name": "python"
  }
 },
 "nbformat": 4,
 "nbformat_minor": 2
}
